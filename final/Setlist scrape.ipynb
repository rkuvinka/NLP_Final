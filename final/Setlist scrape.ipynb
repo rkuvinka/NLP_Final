{
 "cells": [
  {
   "cell_type": "code",
   "execution_count": 1,
   "metadata": {
    "collapsed": true
   },
   "outputs": [],
   "source": [
    "from bs4 import BeautifulSoup\n",
    "import string\n",
    "import os\n",
    "%matplotlib inline\n",
    "import matplotlib.pyplot as plt"
   ]
  },
  {
   "cell_type": "code",
   "execution_count": 2,
   "metadata": {
    "collapsed": false
   },
   "outputs": [],
   "source": [
    "#Set up class called setlist that a two attributes, date and songlist\n",
    "class Setlist:\n",
    "    def __init__(self):\n",
    "        self.date = \"\"\n",
    "        self.songlist = []   "
   ]
  },
  {
   "cell_type": "code",
   "execution_count": 5,
   "metadata": {
    "collapsed": false
   },
   "outputs": [],
   "source": [
    "dateDict = {}\n",
    "all_setlists = []\n",
    "\n",
    "#years we want to scrape\n",
    "yearRange = range(11216,11217)\n",
    "\n",
    "\n",
    "for year in yearRange:\n",
    "\n",
    "    soup = BeautifulSoup(open('{0}.html'.format(str(year)),encoding = \"ISO-8859-1\"),\"lxml\")\n"
   ]
  },
  {
   "cell_type": "code",
   "execution_count": 3,
   "metadata": {
    "collapsed": true
   },
   "outputs": [],
   "source": [
    "dateDict = {}\n",
    "all_setlists = []\n",
    "\n",
    "#years we want to scrape\n",
    "yearRange = range(1986,2016)\n",
    "\n",
    "\n",
    "for year in yearRange:\n",
    "    #open the file\n",
    "    soup = BeautifulSoup(open('{0}.html'.format(str(year)),encoding = \"ISO-8859-1\"),\"lxml\")\n",
    "    #find all div tags with the class \"setlist\"\n",
    "    dateDivs = soup.find_all('div', attrs={'class': 'setlist'})\n",
    "    #for each of those divs, which maps to a single set\n",
    "    for div in dateDivs:\n",
    "        #make a new setlist object\n",
    "        slist = Setlist()\n",
    "        #the first link inside the first header inside the div has a url with the date of the show\n",
    "        link = div.h2.a\n",
    "        if link.has_attr('href'):\n",
    "            #isolate just the date from the url\n",
    "            slist.date = str(link['href']).split(\"=\")[1]\n",
    "        #create a soup just from this div\n",
    "        song_groups_soup = BeautifulSoup(str(div), \"lxml\")\n",
    "        #find all <p> tags\n",
    "        song_groups = song_groups_soup.find_all('p')\n",
    "        #this is a list of links to songs\n",
    "        for group in song_groups:\n",
    "            #make a soup of this song list\n",
    "            songs_soup = BeautifulSoup(str(group), \"lxml\")\n",
    "            #find all links\n",
    "            song_links = songs_soup.find_all('a')\n",
    "            #each link has a song name in it\n",
    "            for song_link in song_links:\n",
    "                #dont include links for teases\n",
    "                if \"?teaseid=\" not in str(song_link):\n",
    "                    #trim the url to just the song\n",
    "                    song_name = song_link['href'].replace(\"http://phish.net/song/\", \"\").replace(\"http://phish.net/faq/\", \"\").replace(\"http://www.livephish.com/\", \"\")\n",
    "                    #only add the song name to the list if its not already there\n",
    "                    if song_name not in slist.songlist:\n",
    "                        slist.songlist.append(song_name)\n",
    "        #add the setlist to the list of all setlists ever\n",
    "    \n",
    "        all_setlists.append(slist)\n",
    "        \n",
    "#at this point all_setlists holds just that, all setlists, ready to be compared\n",
    "\n"
   ]
  },
  {
   "cell_type": "code",
   "execution_count": 6,
   "metadata": {
    "collapsed": false,
    "scrolled": true
   },
   "outputs": [],
   "source": [
    "import pandas as pd\n",
    "import numpy as np\n",
    "\n",
    "songs = []\n",
    "for i in all_setlists:\n",
    "    songs.append(i.songlist)\n",
    "    \n",
    "dates = []\n",
    "for i in all_setlists:\n",
    "    dates.append(i.date)"
   ]
  },
  {
   "cell_type": "code",
   "execution_count": 7,
   "metadata": {
    "collapsed": false,
    "scrolled": true
   },
   "outputs": [
    {
     "data": {
      "text/plain": [
       "[['the-landlady',\n",
       "  'free',\n",
       "  'the-moma-dance',\n",
       "  'seven-below',\n",
       "  'prince-caspian',\n",
       "  'backwards-down-the-number-line',\n",
       "  'the-line',\n",
       "  'scent-of-a-mule',\n",
       "  'saw-it-again',\n",
       "  'halfway-to-the-moon',\n",
       "  'the-birdwatcher',\n",
       "  'frankenstein',\n",
       "  'wilson',\n",
       "  'down-with-disease',\n",
       "  'carini',\n",
       "  'steam',\n",
       "  'piper',\n",
       "  'also-sprach-zarathustra',\n",
       "  'tweezer',\n",
       "  'the-horse',\n",
       "  'silent-in-the-morning',\n",
       "  'slave-to-the-traffic-light',\n",
       "  'tweezer-reprise',\n",
       "  'harpua',\n",
       "  'after-midnight',\n",
       "  'no2',\n",
       "  'keyboard-army',\n",
       "  'your-pet-cat',\n",
       "  'once-in-a-lifetime',\n",
       "  'united-we-stand',\n",
       "  ''],\n",
       " ['sample-in-a-jar',\n",
       "  'free',\n",
       "  'simple',\n",
       "  'back-on-the-train',\n",
       "  'waiting-all-night',\n",
       "  '555',\n",
       "  'roggae',\n",
       "  'the-dogs',\n",
       "  '46-days',\n",
       "  'chalk-dust-torture',\n",
       "  'ghost',\n",
       "  'cant-always-listen',\n",
       "  'waves',\n",
       "  'bathtub-gin',\n",
       "  'mikes-song',\n",
       "  'bouncing-around-the-room',\n",
       "  'weekapaug-groove',\n",
       "  'whats-the-use',\n",
       "  'character-zero',\n",
       "  ''],\n",
       " ['the-moma-dance',\n",
       "  'possum',\n",
       "  'wolfmans-brother',\n",
       "  'birds-of-a-feather',\n",
       "  'i-didnt-know',\n",
       "  'happy-birthday-to-you',\n",
       "  'martian-monster',\n",
       "  'reba',\n",
       "  'walls-of-the-cave',\n",
       "  'the-wedge',\n",
       "  'wilson',\n",
       "  'a-song-i-heard-the-ocean-sing',\n",
       "  'yarmouth-road',\n",
       "  'kill-devil-falls',\n",
       "  'piper',\n",
       "  'twist',\n",
       "  'no-men-in-no-mans-land',\n",
       "  'auld-lang-syne',\n",
       "  'blaze-on',\n",
       "  'carini',\n",
       "  'david-bowie',\n",
       "  'the-horse',\n",
       "  'silent-in-the-morning',\n",
       "  'backwards-down-the-number-line',\n",
       "  'tube',\n",
       "  'cavern',\n",
       "  '']]"
      ]
     },
     "execution_count": 7,
     "metadata": {},
     "output_type": "execute_result"
    }
   ],
   "source": [
    "songs[-3:]"
   ]
  },
  {
   "cell_type": "code",
   "execution_count": 8,
   "metadata": {
    "collapsed": false
   },
   "outputs": [],
   "source": [
    "df = pd.DataFrame(songs)\n",
    "setlists = df.transpose()\n",
    "setlists.columns = dates"
   ]
  },
  {
   "cell_type": "code",
   "execution_count": 9,
   "metadata": {
    "collapsed": false,
    "scrolled": true
   },
   "outputs": [
    {
     "data": {
      "text/html": [
       "<div>\n",
       "<table border=\"1\" class=\"dataframe\">\n",
       "  <thead>\n",
       "    <tr style=\"text-align: right;\">\n",
       "      <th></th>\n",
       "      <th>1986-02-03</th>\n",
       "      <th>1986-02-28</th>\n",
       "      <th>1986-04-01</th>\n",
       "      <th>1986-04-15</th>\n",
       "      <th>1986-04-29</th>\n",
       "      <th>1986-05-16</th>\n",
       "      <th>1986-05-17</th>\n",
       "      <th>1986-05-24</th>\n",
       "      <th>1986-06-01</th>\n",
       "      <th>1986-09-03</th>\n",
       "      <th>...</th>\n",
       "      <th>2015-08-16</th>\n",
       "      <th>2015-08-20</th>\n",
       "      <th>2015-08-21</th>\n",
       "      <th>2015-08-22</th>\n",
       "      <th>2015-08-23</th>\n",
       "      <th>2015-09-04</th>\n",
       "      <th>2015-09-05</th>\n",
       "      <th>2015-09-06</th>\n",
       "      <th>2015-12-30</th>\n",
       "      <th>2015-12-31</th>\n",
       "    </tr>\n",
       "  </thead>\n",
       "  <tbody>\n",
       "    <tr>\n",
       "      <th>0</th>\n",
       "      <td>slave-to-the-traffic-light</td>\n",
       "      <td>None</td>\n",
       "      <td>quinn-the-eskimo</td>\n",
       "      <td>acdc-bag</td>\n",
       "      <td>None</td>\n",
       "      <td>None</td>\n",
       "      <td>halleys-comet</td>\n",
       "      <td>dog-log</td>\n",
       "      <td>None</td>\n",
       "      <td>None</td>\n",
       "      <td>...</td>\n",
       "      <td>golgi-apparatus</td>\n",
       "      <td>the-bunny</td>\n",
       "      <td>simple</td>\n",
       "      <td>divided-sky</td>\n",
       "      <td>punch-you-in-the-eye</td>\n",
       "      <td>tube</td>\n",
       "      <td>no-men-in-no-mans-land</td>\n",
       "      <td>the-landlady</td>\n",
       "      <td>sample-in-a-jar</td>\n",
       "      <td>the-moma-dance</td>\n",
       "    </tr>\n",
       "    <tr>\n",
       "      <th>1</th>\n",
       "      <td>mikes-song</td>\n",
       "      <td>None</td>\n",
       "      <td>have-mercy</td>\n",
       "      <td>dear-mrs-reagan</td>\n",
       "      <td>None</td>\n",
       "      <td>None</td>\n",
       "      <td>back-porch-boogie-blues</td>\n",
       "      <td>halleys-comet</td>\n",
       "      <td>None</td>\n",
       "      <td>None</td>\n",
       "      <td>...</td>\n",
       "      <td>undermind</td>\n",
       "      <td>None</td>\n",
       "      <td>the-dogs</td>\n",
       "      <td>the-moma-dance</td>\n",
       "      <td>buffalo-bill</td>\n",
       "      <td>ghost</td>\n",
       "      <td>martian-monster</td>\n",
       "      <td>free</td>\n",
       "      <td>free</td>\n",
       "      <td>possum</td>\n",
       "    </tr>\n",
       "    <tr>\n",
       "      <th>2</th>\n",
       "      <td>daves-energy-guide</td>\n",
       "      <td>None</td>\n",
       "      <td>harry-hood</td>\n",
       "      <td>prep-school-hippie</td>\n",
       "      <td>None</td>\n",
       "      <td>None</td>\n",
       "      <td>None</td>\n",
       "      <td>back-porch-boogie-blues</td>\n",
       "      <td>None</td>\n",
       "      <td>None</td>\n",
       "      <td>...</td>\n",
       "      <td>julius</td>\n",
       "      <td>None</td>\n",
       "      <td>the-man-who-stepped-into-yesterday</td>\n",
       "      <td>mound</td>\n",
       "      <td>a-song-i-heard-the-ocean-sing</td>\n",
       "      <td>halleys-comet</td>\n",
       "      <td>nicu</td>\n",
       "      <td>the-moma-dance</td>\n",
       "      <td>simple</td>\n",
       "      <td>wolfmans-brother</td>\n",
       "    </tr>\n",
       "    <tr>\n",
       "      <th>3</th>\n",
       "      <td>you-enjoy-myself</td>\n",
       "      <td>None</td>\n",
       "      <td>the-pendulum</td>\n",
       "      <td>quinn-the-eskimo</td>\n",
       "      <td>None</td>\n",
       "      <td>None</td>\n",
       "      <td>None</td>\n",
       "      <td>None</td>\n",
       "      <td>None</td>\n",
       "      <td>None</td>\n",
       "      <td>...</td>\n",
       "      <td>555</td>\n",
       "      <td>None</td>\n",
       "      <td>avenu-malkenu</td>\n",
       "      <td>army-of-one</td>\n",
       "      <td>limb-by-limb</td>\n",
       "      <td>undermind</td>\n",
       "      <td>stealing-time-from-the-faulty-plan</td>\n",
       "      <td>seven-below</td>\n",
       "      <td>back-on-the-train</td>\n",
       "      <td>birds-of-a-feather</td>\n",
       "    </tr>\n",
       "    <tr>\n",
       "      <th>4</th>\n",
       "      <td>alumni-blues</td>\n",
       "      <td>None</td>\n",
       "      <td>daves-energy-guide</td>\n",
       "      <td>slave-to-the-traffic-light</td>\n",
       "      <td>None</td>\n",
       "      <td>None</td>\n",
       "      <td>None</td>\n",
       "      <td>None</td>\n",
       "      <td>None</td>\n",
       "      <td>None</td>\n",
       "      <td>...</td>\n",
       "      <td>nothing</td>\n",
       "      <td>None</td>\n",
       "      <td>free</td>\n",
       "      <td>scabbard</td>\n",
       "      <td>waiting-all-night</td>\n",
       "      <td>yarmouth-road</td>\n",
       "      <td>bouncing-around-the-room</td>\n",
       "      <td>prince-caspian</td>\n",
       "      <td>waiting-all-night</td>\n",
       "      <td>i-didnt-know</td>\n",
       "    </tr>\n",
       "  </tbody>\n",
       "</table>\n",
       "<p>5 rows × 1740 columns</p>\n",
       "</div>"
      ],
      "text/plain": [
       "                   1986-02-03 1986-02-28          1986-04-01  \\\n",
       "0  slave-to-the-traffic-light       None    quinn-the-eskimo   \n",
       "1                  mikes-song       None          have-mercy   \n",
       "2          daves-energy-guide       None          harry-hood   \n",
       "3            you-enjoy-myself       None        the-pendulum   \n",
       "4                alumni-blues       None  daves-energy-guide   \n",
       "\n",
       "                   1986-04-15 1986-04-29 1986-05-16               1986-05-17  \\\n",
       "0                    acdc-bag       None       None            halleys-comet   \n",
       "1             dear-mrs-reagan       None       None  back-porch-boogie-blues   \n",
       "2          prep-school-hippie       None       None                     None   \n",
       "3            quinn-the-eskimo       None       None                     None   \n",
       "4  slave-to-the-traffic-light       None       None                     None   \n",
       "\n",
       "                1986-05-24 1986-06-01 1986-09-03         ...          \\\n",
       "0                  dog-log       None       None         ...           \n",
       "1            halleys-comet       None       None         ...           \n",
       "2  back-porch-boogie-blues       None       None         ...           \n",
       "3                     None       None       None         ...           \n",
       "4                     None       None       None         ...           \n",
       "\n",
       "        2015-08-16 2015-08-20                          2015-08-21  \\\n",
       "0  golgi-apparatus  the-bunny                              simple   \n",
       "1        undermind       None                            the-dogs   \n",
       "2           julius       None  the-man-who-stepped-into-yesterday   \n",
       "3              555       None                       avenu-malkenu   \n",
       "4          nothing       None                                free   \n",
       "\n",
       "       2015-08-22                     2015-08-23     2015-09-04  \\\n",
       "0     divided-sky           punch-you-in-the-eye           tube   \n",
       "1  the-moma-dance                   buffalo-bill          ghost   \n",
       "2           mound  a-song-i-heard-the-ocean-sing  halleys-comet   \n",
       "3     army-of-one                   limb-by-limb      undermind   \n",
       "4        scabbard              waiting-all-night  yarmouth-road   \n",
       "\n",
       "                           2015-09-05      2015-09-06         2015-12-30  \\\n",
       "0              no-men-in-no-mans-land    the-landlady    sample-in-a-jar   \n",
       "1                     martian-monster            free               free   \n",
       "2                                nicu  the-moma-dance             simple   \n",
       "3  stealing-time-from-the-faulty-plan     seven-below  back-on-the-train   \n",
       "4            bouncing-around-the-room  prince-caspian  waiting-all-night   \n",
       "\n",
       "           2015-12-31  \n",
       "0      the-moma-dance  \n",
       "1              possum  \n",
       "2    wolfmans-brother  \n",
       "3  birds-of-a-feather  \n",
       "4        i-didnt-know  \n",
       "\n",
       "[5 rows x 1740 columns]"
      ]
     },
     "execution_count": 9,
     "metadata": {},
     "output_type": "execute_result"
    }
   ],
   "source": [
    "setlists.head()"
   ]
  },
  {
   "cell_type": "code",
   "execution_count": 13,
   "metadata": {
    "collapsed": false,
    "scrolled": false
   },
   "outputs": [
    {
     "name": "stdout",
     "output_type": "stream",
     "text": [
      "divided-sky                 55\n",
      "stash                       49\n",
      "reba                        44\n",
      "bouncing-around-the-room    36\n",
      "maze                        34\n",
      "sparkle                     29\n",
      "fee                         29\n",
      "split-open-and-melt         28\n",
      "poor-heart                  27\n",
      "guelah-papyrus              27\n",
      "you-enjoy-myself            26\n",
      "foam                        26\n",
      "runaway-jim                 24\n",
      "its-ice                     24\n",
      "possum                      21\n",
      "Name: 3, dtype: int64 divided-sky                 0.031609\n",
      "stash                       0.028161\n",
      "reba                        0.025287\n",
      "bouncing-around-the-room    0.020690\n",
      "maze                        0.019540\n",
      "sparkle                     0.016667\n",
      "fee                         0.016667\n",
      "split-open-and-melt         0.016092\n",
      "poor-heart                  0.015517\n",
      "guelah-papyrus              0.015517\n",
      "you-enjoy-myself            0.014943\n",
      "foam                        0.014943\n",
      "runaway-jim                 0.013793\n",
      "its-ice                     0.013793\n",
      "possum                      0.012069\n",
      "Name: 3, dtype: float64\n"
     ]
    }
   ],
   "source": [
    "#top songs of certain song number in setlist\n",
    "#percentage of shows these were played in \n",
    "\n",
    "song_number = 3\n",
    "\n",
    "print (setlists.ix[song_number].value_counts()[:15], setlists.ix[song_number].value_counts(1)[:15])\n",
    "\n"
   ]
  },
  {
   "cell_type": "code",
   "execution_count": 14,
   "metadata": {
    "collapsed": false
   },
   "outputs": [
    {
     "data": {
      "text/plain": [
       "<matplotlib.axes._subplots.AxesSubplot at 0x10999cb70>"
      ]
     },
     "execution_count": 14,
     "metadata": {},
     "output_type": "execute_result"
    },
    {
     "data": {
      "image/png": "[encoded data removed]",
      "text/plain": [
       "<matplotlib.figure.Figure at 0x1099b7ba8>"
      ]
     },
     "metadata": {},
     "output_type": "display_data"
    }
   ],
   "source": [
    "setlists.ix[song_number].value_counts()[:30].plot(kind = 'bar')"
   ]
  },
  {
   "cell_type": "markdown",
   "metadata": {},
   "source": [
    "**Most 'Typical' Setlist**"
   ]
  },
  {
   "cell_type": "code",
   "execution_count": 9,
   "metadata": {
    "collapsed": false
   },
   "outputs": [],
   "source": [
    "max_setlist = []\n",
    "for i in range (0,49):\n",
    "    song_number = i\n",
    "    max_setlist.append(setlists.ix[song_number].value_counts()[:1])\n",
    "    #print(setlists.ix[song_number].value_counts(1)[:1])"
   ]
  },
  {
   "cell_type": "code",
   "execution_count": 10,
   "metadata": {
    "collapsed": false,
    "scrolled": true
   },
   "outputs": [
    {
     "name": "stdout",
     "output_type": "stream",
     "text": [
      "[chalk-dust-torture    92\n",
      "Name: 0, dtype: int64, foam    107\n",
      "Name: 1, dtype: int64, foam    65\n",
      "Name: 2, dtype: int64, divided-sky    55\n",
      "Name: 3, dtype: int64, stash    52\n",
      "Name: 4, dtype: int64, stash    53\n",
      "Name: 5, dtype: int64, stash    48\n",
      "Name: 6, dtype: int64, divided-sky    30\n",
      "Name: 7, dtype: int64, possum    37\n",
      "Name: 8, dtype: int64, david-bowie    55\n",
      "Name: 9, dtype: int64, david-bowie    65\n",
      "Name: 10, dtype: int64, david-bowie    47\n",
      "Name: 11, dtype: int64, mikes-song    39\n",
      "Name: 12, dtype: int64, tweezer    42\n",
      "Name: 13, dtype: int64, weekapaug-groove    37\n",
      "Name: 14, dtype: int64, you-enjoy-myself    52\n",
      "Name: 15, dtype: int64, you-enjoy-myself    42\n",
      "Name: 16, dtype: int64, you-enjoy-myself    42\n",
      "Name: 17, dtype: int64, hold-your-head-up    42\n",
      "Name: 18, dtype: int64, hold-your-head-up    42\n",
      "Name: 19, dtype: int64, hold-your-head-up    38\n",
      "Name: 20, dtype: int64, hold-your-head-up    23\n",
      "Name: 21, dtype: int64, tweezer-reprise    28\n",
      "Name: 22, dtype: int64, tweezer-reprise    21\n",
      "Name: 23, dtype: int64, rocky-top    16\n",
      "Name: 24, dtype: int64, tweezer-reprise    14\n",
      "Name: 25, dtype: int64, rocky-top    8\n",
      "Name: 26, dtype: int64, good-times-bad-times    4\n",
      "Name: 27, dtype: int64, tweezer-reprise    4\n",
      "Name: 28, dtype: int64, tweezer-reprise    5\n",
      "Name: 29, dtype: int64,     2\n",
      "Name: 30, dtype: int64,     2\n",
      "Name: 31, dtype: int64, good-times-bad-times    1\n",
      "Name: 32, dtype: int64, helter-skelter    1\n",
      "Name: 33, dtype: int64, mikes-song    1\n",
      "Name: 34, dtype: int64, drowned    1\n",
      "Name: 35, dtype: int64, julius    1\n",
      "Name: 36, dtype: int64, silent-in-the-morning    1\n",
      "Name: 37, dtype: int64, bittersweet-motel    1\n",
      "Name: 38, dtype: int64, golgi-apparatus    1\n",
      "Name: 39, dtype: int64, free    1\n",
      "Name: 40, dtype: int64, loving-cup    1\n",
      "Name: 41, dtype: int64, hold-your-head-up    1\n",
      "Name: 42, dtype: int64, love-you    1\n",
      "Name: 43, dtype: int64, sleeping-monkey    2\n",
      "Name: 44, dtype: int64, bug    1\n",
      "Name: 45, dtype: int64, secret-language-instructions/history    1\n",
      "Name: 46, dtype: int64, amazing-grace    1\n",
      "Name: 47, dtype: int64, costume-contest    1\n",
      "Name: 48, dtype: int64]\n"
     ]
    }
   ],
   "source": [
    "print(max_setlist)"
   ]
  },
  {
   "cell_type": "markdown",
   "metadata": {},
   "source": [
    "**Longest Shows**"
   ]
  },
  {
   "cell_type": "code",
   "execution_count": 12,
   "metadata": {
    "collapsed": false,
    "scrolled": true
   },
   "outputs": [
    {
     "name": "stdout",
     "output_type": "stream",
     "text": [
      "1994-10-31    50\n",
      "1999-12-31    48\n",
      "2011-07-02    47\n",
      "2009-11-01    42\n",
      "2010-10-31    37\n",
      "1987-08-29    35\n",
      "1991-08-03    34\n",
      "1991-07-14    34\n",
      "2009-10-31    34\n",
      "1990-06-16    34\n",
      "1999-12-30    33\n",
      "2013-10-31    33\n",
      "1988-07-23    33\n",
      "1988-10-29    33\n",
      "1987-04-29    33\n",
      "dtype: int64\n"
     ]
    }
   ],
   "source": [
    "setlist_count = setlists.count()\n",
    "print (setlist_count.sort_values(ascending=False)[:15])\n",
    "\n"
   ]
  },
  {
   "cell_type": "code",
   "execution_count": 43,
   "metadata": {
    "collapsed": false
   },
   "outputs": [
    {
     "data": {
      "text/plain": [
       "<matplotlib.axes._subplots.AxesSubplot at 0x10d6b79b0>"
      ]
     },
     "execution_count": 43,
     "metadata": {},
     "output_type": "execute_result"
    },
    {
     "data": {
      "image/png": "[encoded data removed]",
      "text/plain": [
       "<matplotlib.figure.Figure at 0x10d679ac8>"
      ]
     },
     "metadata": {},
     "output_type": "display_data"
    }
   ],
   "source": [
    "setlist_count.sort_values(ascending=False)[:20].plot(kind= 'bar')"
   ]
  },
  {
   "cell_type": "code",
   "execution_count": null,
   "metadata": {
    "collapsed": false
   },
   "outputs": [],
   "source": []
  },
  {
   "cell_type": "markdown",
   "metadata": {},
   "source": [
    "**Looking at Song Debut**"
   ]
  },
  {
   "cell_type": "code",
   "execution_count": 15,
   "metadata": {
    "collapsed": false
   },
   "outputs": [],
   "source": [
    "def index_containing_substring(the_list, substring):\n",
    "    for i, s in enumerate(the_list):\n",
    "        if substring in s:\n",
    "              return i\n",
    "    return -1\n",
    "\n",
    "\n",
    "def debut(song):\n",
    "    print (\"The song %s debuted on %s\" % (song, setlists.columns[index_containing_substring(songs, song)]))"
   ]
  },
  {
   "cell_type": "code",
   "execution_count": 17,
   "metadata": {
    "collapsed": false,
    "scrolled": true
   },
   "outputs": [
    {
     "name": "stdout",
     "output_type": "stream",
     "text": [
      "The song 555 debuted on 2013-10-31\n"
     ]
    }
   ],
   "source": [
    "debut('555')"
   ]
  },
  {
   "cell_type": "code",
   "execution_count": null,
   "metadata": {
    "collapsed": true
   },
   "outputs": [],
   "source": []
  },
  {
   "cell_type": "code",
   "execution_count": null,
   "metadata": {
    "collapsed": true
   },
   "outputs": [],
   "source": []
  },
  {
   "cell_type": "code",
   "execution_count": null,
   "metadata": {
    "collapsed": true
   },
   "outputs": [],
   "source": []
  },
  {
   "cell_type": "code",
   "execution_count": null,
   "metadata": {
    "collapsed": true
   },
   "outputs": [],
   "source": []
  },
  {
   "cell_type": "markdown",
   "metadata": {},
   "source": [
    "**Setlist Compare**"
   ]
  },
  {
   "cell_type": "code",
   "execution_count": 157,
   "metadata": {
    "collapsed": true
   },
   "outputs": [],
   "source": [
    "\n",
    "class Compare:\n",
    "     def __init__(self, show1, show2):\n",
    "        self.show1 = date1\n",
    "        self.show2 = date2\n",
    "        self.matches = 0\n"
   ]
  },
  {
   "cell_type": "code",
   "execution_count": 158,
   "metadata": {
    "collapsed": true
   },
   "outputs": [],
   "source": [
    "def compare(setlist1, setlist2):\n",
    "    #make an object to store the result\n",
    "    comparison = Comparison(setlist1.date, setlist2.date)\n",
    "    #look for every song in show 1 in show 2's setlist, accumulate matches\n",
    "    for song in setlist1.songlist:\n",
    "        if song in setlist2.songlist:\n",
    "            comparison.matches += 1\n",
    "    return comparison"
   ]
  },
  {
   "cell_type": "code",
   "execution_count": 159,
   "metadata": {
    "collapsed": true
   },
   "outputs": [],
   "source": [
    "def date_gap(comparison):\n",
    "    date1 = comparison.date1\n",
    "    date2 = comparison.date2\n",
    "    return total_days(date2) - total_days(date1)"
   ]
  },
  {
   "cell_type": "code",
   "execution_count": 18,
   "metadata": {
    "collapsed": false,
    "scrolled": true
   },
   "outputs": [
    {
     "data": {
      "text/plain": [
       "<matplotlib.axes._subplots.AxesSubplot at 0x1097cfb38>"
      ]
     },
     "execution_count": 18,
     "metadata": {},
     "output_type": "execute_result"
    },
    {
     "data": {
      "image/png": "[encoded data removed]",
      "text/plain": [
       "<matplotlib.figure.Figure at 0x109713da0>"
      ]
     },
     "metadata": {},
     "output_type": "display_data"
    }
   ],
   "source": [
    "\n",
    "setlists.ix[1].value_counts().plot()"
   ]
  },
  {
   "cell_type": "code",
   "execution_count": null,
   "metadata": {
    "collapsed": true
   },
   "outputs": [],
   "source": []
  }
 ],
 "metadata": {
  "kernelspec": {
   "display_name": "Python 3",
   "language": "python",
   "name": "python3"
  },
  "language_info": {
   "codemirror_mode": {
    "name": "ipython",
    "version": 3
   },
   "file_extension": ".py",
   "mimetype": "text/x-python",
   "name": "python",
   "nbconvert_exporter": "python",
   "pygments_lexer": "ipython3",
   "version": "3.5.2"
  }
 },
 "nbformat": 4,
 "nbformat_minor": 0
}
